{
 "cells": [
  {
   "cell_type": "markdown",
   "metadata": {},
   "source": [
    "# Optimal Approach to Open a Restaurant in Toronto"
   ]
  },
  {
   "cell_type": "markdown",
   "metadata": {},
   "source": [
    "# 1. Introduction/Business Problem"
   ]
  },
  {
   "cell_type": "markdown",
   "metadata": {},
   "source": [
    "A client is looking into starting a restaurant focused on Japanese cuisine. The location would be in Toronto, Canada, but the client would need to know which neighborhood in the city would offer the most benefits to the business operation, and of course, to maximize revenue.\n",
    "\n",
    "Our objective in this project is to gather information on the different neighborhoods in Toronto, and advise our client with the most strategic location based on demographics of residents, area population, and average income. We will be using the Foursquare API for exploring nearby venues and retrieving demographic data from Toronto’s Open Data Portal."
   ]
  },
  {
   "cell_type": "markdown",
   "metadata": {},
   "source": [
    "# 2. Data"
   ]
  },
  {
   "cell_type": "markdown",
   "metadata": {},
   "source": [
    "### a. Data Sources"
   ]
  },
  {
   "cell_type": "markdown",
   "metadata": {},
   "source": [
    "* The neighborhoods with their respective postal codes and boroughs were scraped from Wikipedia. \n",
    "* Geographical coordinates for each neighborhood were extracted from the file provided to us in last week's assignment. \n",
    "* Toronto’s demographic data, such as median household income, total population, and population of different ethnicity for each neighbourhood is retrieved from Toronto’s Open Data Portal. \n",
    "* We will also be using the Foursquare API to explore the list of different venues nearby in each neighbourhood."
   ]
  },
  {
   "cell_type": "markdown",
   "metadata": {},
   "source": [
    "### b. Data Cleaning"
   ]
  },
  {
   "cell_type": "markdown",
   "metadata": {},
   "source": [
    "* From the Wikipedia data, we will remove neighborhoods where their boroughs or postal code were labeled as not assigned\n",
    "* We will remove any neighborhoods that do not have any demographics data from Toronto's Open Data Portal"
   ]
  },
  {
   "cell_type": "markdown",
   "metadata": {},
   "source": [
    "#### Part 1: Web Scape the Wiki page for Toronto Neighborhoods"
   ]
  },
  {
   "cell_type": "code",
   "execution_count": 1,
   "metadata": {
    "collapsed": true,
    "jupyter": {
     "outputs_hidden": true
    }
   },
   "outputs": [
    {
     "name": "stdout",
     "output_type": "stream",
     "text": [
      "Collecting beautifulsoup4\n",
      "\u001b[?25l  Downloading https://files.pythonhosted.org/packages/66/25/ff030e2437265616a1e9b25ccc864e0371a0bc3adb7c5a404fd661c6f4f6/beautifulsoup4-4.9.1-py3-none-any.whl (115kB)\n",
      "\u001b[K     |████████████████████████████████| 122kB 5.7MB/s eta 0:00:01\n",
      "\u001b[?25hCollecting soupsieve>1.2 (from beautifulsoup4)\n",
      "  Downloading https://files.pythonhosted.org/packages/6f/8f/457f4a5390eeae1cc3aeab89deb7724c965be841ffca6cfca9197482e470/soupsieve-2.0.1-py3-none-any.whl\n",
      "Installing collected packages: soupsieve, beautifulsoup4\n",
      "Successfully installed beautifulsoup4-4.9.1 soupsieve-2.0.1\n"
     ]
    }
   ],
   "source": [
    "import sys\n",
    "!{sys.executable} -m pip install beautifulsoup4"
   ]
  },
  {
   "cell_type": "code",
   "execution_count": 2,
   "metadata": {
    "collapsed": true,
    "jupyter": {
     "outputs_hidden": true
    }
   },
   "outputs": [
    {
     "name": "stdout",
     "output_type": "stream",
     "text": [
      "Collecting package metadata (current_repodata.json): done\n",
      "Solving environment: done\n",
      "\n",
      "## Package Plan ##\n",
      "\n",
      "  environment location: /home/jupyterlab/conda/envs/python\n",
      "\n",
      "  added / updated specs:\n",
      "    - geopy\n",
      "\n",
      "\n",
      "The following packages will be downloaded:\n",
      "\n",
      "    package                    |            build\n",
      "    ---------------------------|-----------------\n",
      "    ca-certificates-2020.4.5.2 |       hecda079_0         147 KB  conda-forge\n",
      "    certifi-2020.4.5.2         |   py36h9f0ad1d_0         152 KB  conda-forge\n",
      "    geographiclib-1.50         |             py_0          34 KB  conda-forge\n",
      "    geopy-1.22.0               |     pyh9f0ad1d_0          63 KB  conda-forge\n",
      "    ------------------------------------------------------------\n",
      "                                           Total:         395 KB\n",
      "\n",
      "The following NEW packages will be INSTALLED:\n",
      "\n",
      "  geographiclib      conda-forge/noarch::geographiclib-1.50-py_0\n",
      "  geopy              conda-forge/noarch::geopy-1.22.0-pyh9f0ad1d_0\n",
      "\n",
      "The following packages will be UPDATED:\n",
      "\n",
      "  ca-certificates                     2020.4.5.1-hecc5488_0 --> 2020.4.5.2-hecda079_0\n",
      "  certifi                         2020.4.5.1-py36h9f0ad1d_0 --> 2020.4.5.2-py36h9f0ad1d_0\n",
      "\n",
      "\n",
      "\n",
      "Downloading and Extracting Packages\n",
      "geopy-1.22.0         | 63 KB     | ##################################### | 100% \n",
      "certifi-2020.4.5.2   | 152 KB    | ##################################### | 100% \n",
      "ca-certificates-2020 | 147 KB    | ##################################### | 100% \n",
      "geographiclib-1.50   | 34 KB     | ##################################### | 100% \n",
      "Preparing transaction: done\n",
      "Verifying transaction: done\n",
      "Executing transaction: done\n"
     ]
    }
   ],
   "source": [
    "# importing the libraries\n",
    "from bs4 import BeautifulSoup\n",
    "import requests\n",
    "import pandas as pd\n",
    "import numpy as np \n",
    "\n",
    "!conda install -c conda-forge geopy --yes \n",
    "from geopy.geocoders import Nominatim # module to convert an address into latitude and longitude values\n",
    "\n",
    "import random # library for random number generation\n",
    "\n",
    "# libraries for displaying images\n",
    "from IPython.display import Image \n",
    "from IPython.core.display import HTML \n",
    "    \n",
    "# tranforming json file into a pandas dataframe library\n",
    "from pandas.io.json import json_normalize\n",
    "\n",
    "#!conda install -c conda-forge folium=0.5.0 --yes\n",
    "import folium # plotting library\n",
    "\n",
    "from sklearn.cluster import KMeans"
   ]
  },
  {
   "cell_type": "code",
   "execution_count": 3,
   "metadata": {},
   "outputs": [],
   "source": [
    "# Step 1: Sending a HTTP request to a URL\n",
    "url = \"https://en.wikipedia.org/wiki/List_of_postal_codes_of_Canada:_M\"\n",
    "# Make a GET request to fetch the raw HTML content\n",
    "html_content = requests.get(url).text\n",
    "\n",
    "# Step 2: Parse the html content\n",
    "soup = BeautifulSoup(html_content, \"html.parser\")\n",
    "#print(soup.prettify()) # print the parsed data of html\n",
    "\n",
    "# Step 3: Get the table having the class wikitable sortable\n",
    "gdp_table = soup.find(\"table\", attrs={\"class\": \"wikitable sortable\"})\n",
    "gdp_table_data = gdp_table.tbody.find_all(\"tr\")  # contains 2 rows\n",
    "\n",
    "# Step 4: Get headers of table \n",
    "t_headers = []\n",
    "for th in gdp_table.find_all(\"th\"):\n",
    "    # remove any newlines and extra spaces from left and right\n",
    "    t_headers.append(th.text.replace('\\n', ' ').strip())\n",
    "    \n",
    "# Step 5: Get all the rows of table\n",
    "table_data = []\n",
    "for tr in gdp_table.tbody.find_all(\"tr\"): # find all tr's from table's tbody\n",
    "    t_row = {}\n",
    "\n",
    "    for td, th in zip(tr.find_all(\"td\"), t_headers): \n",
    "        t_row[th] = td.text.replace('\\n', '').strip()\n",
    "    table_data.append(t_row)\n",
    "\n",
    "df = pd.DataFrame(data=table_data[1:], columns = t_headers)\n",
    "df = df[df['Borough'] != 'Not assigned']\n",
    "df = df['Neighborhood'].str.split(',').apply(lambda x: pd.Series(x[:])).stack().reset_index(level=1, drop=True).to_frame('Neighborhood').join(df[['Postal Code', 'Borough']], how='left')\n",
    "df = df[['Postal Code', 'Borough', 'Neighborhood']]\n",
    "\n",
    "df['Neighborhood'] = df['Neighborhood'].str.split('-', expand=True)[0]\n",
    "df['Neighborhood'] = df['Neighborhood'].str.strip()"
   ]
  },
  {
   "cell_type": "markdown",
   "metadata": {},
   "source": [
    "#### Part 2: Retrieve Latitude and Longitude for each Neighborhood"
   ]
  },
  {
   "cell_type": "code",
   "execution_count": 4,
   "metadata": {},
   "outputs": [],
   "source": [
    "lat_long_df = pd.read_csv('/resources/labs/Geospatial_Coordinates.csv')\n",
    "\n",
    "result_df = pd.merge(df,\n",
    "                 lat_long_df, \n",
    "                 left_on = 'Postal Code',\n",
    "                 right_on = 'Postal Code', \n",
    "                 how = 'inner')"
   ]
  },
  {
   "cell_type": "markdown",
   "metadata": {},
   "source": [
    "#### Part 3: Using the Foursquare API, retrieve the number of Asian Restaurants within 1000 meters for each neighborhood"
   ]
  },
  {
   "cell_type": "code",
   "execution_count": 21,
   "metadata": {},
   "outputs": [],
   "source": [
    "CLIENT_ID = 'JUQFG2FUEPW2LKBVLBV0ETJWGV1VKXNPU04Q5JSBJH5HQACL' # your Foursquare ID\n",
    "CLIENT_SECRET = 'AGWMTWAZB5J2B0KMLIUWWMMSSH0FKDV0HB52SFGJVGQ25XBH' # your Foursquare Secret\n",
    "VERSION = '20180604'"
   ]
  },
  {
   "cell_type": "code",
   "execution_count": 22,
   "metadata": {},
   "outputs": [],
   "source": [
    "def getNearbyVenues(names, latitudes, longitudes, radius=1000):\n",
    "    \n",
    "    venues_list=[]\n",
    "    for name, lat, lng in zip(names, latitudes, longitudes):\n",
    "            \n",
    "        # create the API request URL\n",
    "        url = 'https://api.foursquare.com/v2/venues/explore?&client_id={}&client_secret={}&v={}&ll={},{}&radius={}'.format(\n",
    "            CLIENT_ID, \n",
    "            CLIENT_SECRET, \n",
    "            VERSION, \n",
    "            lat, \n",
    "            lng, \n",
    "            radius)\n",
    "        \n",
    "        # make the GET request\n",
    "        results = requests.get(url).json()['response']['groups'][0]['items']\n",
    "        \n",
    "        # return only relevant information for each nearby venue\n",
    "        venues_list.append([(\n",
    "            name, \n",
    "            lat, \n",
    "            lng, \n",
    "            v['venue']['name'], \n",
    "            v['venue']['location']['lat'], \n",
    "            v['venue']['location']['lng'],  \n",
    "            v['venue']['categories'][0]['name']) for v in results])\n",
    "\n",
    "    nearby_venues = pd.DataFrame([item for venue_list in venues_list for item in venue_list])\n",
    "    nearby_venues.columns = [\n",
    "                  'Neighborhood', \n",
    "                  'Neighborhood Latitude', \n",
    "                  'Neighborhood Longitude', \n",
    "                  'Venue', \n",
    "                  'Venue Latitude', \n",
    "                  'Venue Longitude', \n",
    "                  'Venue Category']\n",
    "    \n",
    "    return(nearby_venues)"
   ]
  },
  {
   "cell_type": "code",
   "execution_count": 23,
   "metadata": {},
   "outputs": [
    {
     "name": "stdout",
     "output_type": "stream",
     "text": [
      "(5035, 7)\n"
     ]
    }
   ],
   "source": [
    "toronto_venues = getNearbyVenues(  names=result_df['Neighborhood'],\n",
    "                                   latitudes=result_df['Latitude'],\n",
    "                                   longitudes=result_df['Longitude']\n",
    "                                  )\n",
    "print(toronto_venues.shape)"
   ]
  },
  {
   "cell_type": "code",
   "execution_count": 24,
   "metadata": {},
   "outputs": [],
   "source": [
    "toronto_japanese_restaurants = toronto_venues[toronto_venues['Venue Category'].str.contains(\"Restaurant\")]"
   ]
  },
  {
   "cell_type": "code",
   "execution_count": 25,
   "metadata": {},
   "outputs": [],
   "source": [
    "toronto_japanese_restaurants_grouped = toronto_japanese_restaurants.groupby('Neighborhood').count().reset_index()"
   ]
  },
  {
   "cell_type": "code",
   "execution_count": 26,
   "metadata": {},
   "outputs": [],
   "source": [
    "result_df = pd.merge(result_df,\n",
    "                 toronto_japanese_restaurants_grouped[['Neighborhood', 'Venue']],\n",
    "                 left_on = 'Neighborhood', \n",
    "                 right_on = 'Neighborhood',\n",
    "                 how = 'left') \n",
    "result_df.rename(columns={'Venue':'# Similar Restaurants Nearby'}, inplace=True)\n",
    "result_df['# Similar Restaurants Nearby'].replace(np.nan, 0, inplace=True)"
   ]
  },
  {
   "cell_type": "code",
   "execution_count": 27,
   "metadata": {},
   "outputs": [],
   "source": [
    "result_df['# Similar Restaurants Nearby'] = result_df['# Similar Restaurants Nearby'].astype('int')"
   ]
  },
  {
   "cell_type": "markdown",
   "metadata": {},
   "source": [
    "#### Part 4: Get the frequency distribution of East Asian population and Median Household Income for each Neighborhood from Toronto's Open Data Portal"
   ]
  },
  {
   "cell_type": "code",
   "execution_count": 28,
   "metadata": {},
   "outputs": [],
   "source": [
    "from pandas import ExcelWriter\n",
    "from pandas import ExcelFile\n",
    "\n",
    "\n",
    "population_df = pd.read_excel('/resources/data/demographics-nhs-indicators-2011.xlsx', sheet_name='Sheet1', skiprows=range(0))\n",
    "population_df = population_df.iloc[1:]\n",
    "neighborhood_df = pd.read_excel('/resources/data/wellbeing-toronto-demographics.xlsx', sheet_name='RawData-Ref Period 2011', skiprows=range(1))\n",
    "\n",
    "population_df = pd.merge(population_df,\n",
    "                 neighborhood_df[['Neighbourhood', 'Neighbourhood Id']],\n",
    "                 left_on = 'Hood#', \n",
    "                 right_on = 'Neighbourhood Id',\n",
    "                 how = 'inner') \n",
    "\n",
    "population_df = population_df[['Neighbourhood', 'Neighbourhood Id', 'Total Population', '    Chinese', '    Korean', '    Japanese', \n",
    "               '  Median household total income $']]\n",
    "population_df.rename(columns={'    Chinese':'Chinese', '    Korean':'Korean', '    Japanese':'Japanese',  '  Median household total income $':'Median household total income $'}, inplace=True)\n",
    "\n",
    "population_df['Total Population'] = population_df['Total Population'].astype('int')\n",
    "population_df['Chinese'] = population_df['Chinese'].astype('int')\n",
    "population_df['Korean'] = population_df['Korean'].astype('int')\n",
    "population_df['Japanese'] = population_df['Japanese'].astype('int')\n",
    "population_df['Median household total income $'] = population_df['Median household total income $'].astype('int')"
   ]
  },
  {
   "cell_type": "code",
   "execution_count": 29,
   "metadata": {},
   "outputs": [],
   "source": [
    "population_df['Population of East Asian'] = population_df['Chinese'] + population_df['Korean'] + population_df['Japanese']\n",
    "                                              \n",
    "population_df['Percentage of East Asian'] = round((population_df['Chinese'] + population_df['Korean'] + population_df['Japanese']) \n",
    "                                                  / population_df['Total Population'], 2) \n",
    "population_df = population_df[['Neighbourhood', 'Neighbourhood Id', 'Total Population', 'Population of East Asian', 'Percentage of East Asian',\n",
    "                 'Median household total income $']]\n",
    "population_df['Neighbourhood'] = population_df['Neighbourhood'].str.split('-', expand=True)[0]"
   ]
  },
  {
   "cell_type": "code",
   "execution_count": 30,
   "metadata": {},
   "outputs": [],
   "source": [
    "df_all = pd.merge(result_df, \n",
    "                  population_df, \n",
    "                 left_on = 'Neighborhood', \n",
    "                 right_on = 'Neighbourhood',\n",
    "                 how='left').dropna(how='any', axis=0).reset_index(drop=True).drop(['Borough', 'Postal Code', 'Neighbourhood', 'Neighbourhood Id'], axis=1)"
   ]
  },
  {
   "cell_type": "code",
   "execution_count": 31,
   "metadata": {},
   "outputs": [],
   "source": [
    "df_all.drop_duplicates(subset=('Neighborhood'), keep='first', inplace=True)\n",
    "\n",
    "df_all['Total Population'] = df_all['Total Population'].astype('int')\n",
    "df_all['Population of East Asian'] = df_all['Population of East Asian'].astype('int')"
   ]
  },
  {
   "cell_type": "markdown",
   "metadata": {},
   "source": [
    "#### Part 5: Exploratory Data Analysis"
   ]
  },
  {
   "cell_type": "markdown",
   "metadata": {},
   "source": [
    "##### Plot a bar graph to showcase the number of Japanese restaurants in each neighbourhood."
   ]
  },
  {
   "cell_type": "code",
   "execution_count": 32,
   "metadata": {},
   "outputs": [
    {
     "data": {
      "text/plain": [
       "Text(0, 0.5, '# of Nearby Japanese Restaurants')"
      ]
     },
     "execution_count": 32,
     "metadata": {},
     "output_type": "execute_result"
    },
    {
     "data": {
      "image/png": "[encoded data removed]",
      "text/plain": [
       "<Figure size 1080x360 with 1 Axes>"
      ]
     },
     "metadata": {},
     "output_type": "display_data"
    }
   ],
   "source": [
    "# sort by descending order\n",
    "df_all.sort_values(by='# Similar Restaurants Nearby', ascending=False, inplace=True)\n",
    "\n",
    "%matplotlib inline\n",
    "import matplotlib as mpl\n",
    "import matplotlib.pyplot as plt\n",
    "\n",
    "mpl.style.use('ggplot')\n",
    "df_all.set_index('Neighborhood')['# Similar Restaurants Nearby'].plot(kind='bar', figsize=(15,5))\n",
    "\n",
    "plt.title('# of Nearby Japanese Restaurants in Each Neighborhood in Toronto')\n",
    "plt.xlabel('Neighborhood')\n",
    "plt.ylabel('# of Nearby Japanese Restaurants')"
   ]
  },
  {
   "cell_type": "markdown",
   "metadata": {},
   "source": [
    "##### Plot a bar graph to display the ratio of East Asian population to total population in each neighbourhood"
   ]
  },
  {
   "cell_type": "code",
   "execution_count": 33,
   "metadata": {},
   "outputs": [
    {
     "data": {
      "text/plain": [
       "Text(0, 0.5, 'Percentage of East Asian')"
      ]
     },
     "execution_count": 33,
     "metadata": {},
     "output_type": "execute_result"
    },
    {
     "data": {
      "image/png": "[encoded data removed]",
      "text/plain": [
       "<Figure size 1080x360 with 1 Axes>"
      ]
     },
     "metadata": {},
     "output_type": "display_data"
    }
   ],
   "source": [
    "# sort by descending order\n",
    "df_all.sort_values(by='Percentage of East Asian', ascending=False, inplace=True)\n",
    "\n",
    "mpl.style.use('ggplot')\n",
    "df_all.set_index('Neighborhood')['Percentage of East Asian'].plot(kind='bar', figsize=(15,5))\n",
    "\n",
    "plt.title('Percentage of East Asian in Each Neighborhood in Toronto')\n",
    "plt.xlabel('Neighborhood')\n",
    "plt.ylabel('Percentage of East Asian')"
   ]
  },
  {
   "cell_type": "markdown",
   "metadata": {},
   "source": [
    "##### Plot a bar graph to display the median household total income in each neighborhood"
   ]
  },
  {
   "cell_type": "code",
   "execution_count": 34,
   "metadata": {},
   "outputs": [
    {
     "data": {
      "text/plain": [
       "Text(0, 0.5, 'Median household total income $')"
      ]
     },
     "execution_count": 34,
     "metadata": {},
     "output_type": "execute_result"
    },
    {
     "data": {
      "image/png": "[encoded data removed]",
      "text/plain": [
       "<Figure size 1080x360 with 1 Axes>"
      ]
     },
     "metadata": {},
     "output_type": "display_data"
    }
   ],
   "source": [
    "# sort by descending order\n",
    "df_all.sort_values(by='Median household total income $', ascending=False, inplace=True)\n",
    "\n",
    "mpl.style.use('ggplot')\n",
    "df_all.set_index('Neighborhood')['Median household total income $'].plot(kind='bar', figsize=(15,5))\n",
    "\n",
    "plt.title('Median household total income $ in Each Neighborhood in Toronto')\n",
    "plt.xlabel('Neighborhood')\n",
    "plt.ylabel('Median household total income $')"
   ]
  },
  {
   "cell_type": "markdown",
   "metadata": {},
   "source": [
    "#### Part 6: Clustering the Toronto Neighborhood using K-Means"
   ]
  },
  {
   "cell_type": "code",
   "execution_count": 35,
   "metadata": {},
   "outputs": [
    {
     "name": "stderr",
     "output_type": "stream",
     "text": [
      "/home/jupyterlab/conda/envs/python/lib/python3.6/site-packages/sklearn/utils/validation.py:595: DataConversionWarning: Data with input dtype object was converted to float64 by StandardScaler.\n",
      "  warnings.warn(msg, DataConversionWarning)\n",
      "/home/jupyterlab/conda/envs/python/lib/python3.6/site-packages/sklearn/utils/validation.py:595: DataConversionWarning: Data with input dtype object was converted to float64 by StandardScaler.\n",
      "  warnings.warn(msg, DataConversionWarning)\n"
     ]
    }
   ],
   "source": [
    "##Standardize the Quantitative Variables\n",
    "from sklearn.preprocessing import StandardScaler\n",
    "X = df_all.values[:,3:]\n",
    "X = np.nan_to_num(X)\n",
    "scaler = StandardScaler()\n",
    "scaler.fit(X)\n",
    "scaled_data = scaler.transform(X)"
   ]
  },
  {
   "cell_type": "code",
   "execution_count": 36,
   "metadata": {},
   "outputs": [
    {
     "data": {
      "image/png": "[encoded data removed]",
      "text/plain": [
       "<Figure size 432x288 with 1 Axes>"
      ]
     },
     "metadata": {},
     "output_type": "display_data"
    }
   ],
   "source": [
    "# the point of the elbow is the most optimal value for choosing k \n",
    "\n",
    "cost =[] \n",
    "for i in range(1, 11): \n",
    "    KM = KMeans(n_clusters = i, max_iter = 500) \n",
    "    KM.fit(scaled_data) \n",
    "      \n",
    "    # calculates squared error for the clustered points \n",
    "    cost.append(KM.inertia_)      \n",
    "  \n",
    "# plot the cost against K values \n",
    "plt.plot(range(1, 11), cost, color ='g', linewidth ='3') \n",
    "plt.xlabel(\"Value of K\") \n",
    "plt.ylabel(\"Squared Error (Cost)\") \n",
    "plt.show()"
   ]
  },
  {
   "cell_type": "code",
   "execution_count": 37,
   "metadata": {},
   "outputs": [
    {
     "data": {
      "text/plain": [
       "array([0, 0, 1, 1, 0, 0, 5, 0, 0, 0, 1, 0, 0, 2, 5, 5, 2, 4, 3, 2, 3, 4,\n",
       "       4, 1, 3, 5, 3, 5, 3, 3, 1, 3, 3, 3, 3, 3, 3, 5, 1, 3, 5, 2, 3, 3,\n",
       "       1, 3, 3, 3, 3, 3, 3, 3, 3], dtype=int32)"
      ]
     },
     "execution_count": 37,
     "metadata": {},
     "output_type": "execute_result"
    }
   ],
   "source": [
    "kmeans = KMeans(n_clusters=6)\n",
    "kmeans.fit(scaled_data)\n",
    "kmeans.cluster_centers_\n",
    "kmeans.labels_"
   ]
  },
  {
   "cell_type": "code",
   "execution_count": 38,
   "metadata": {},
   "outputs": [
    {
     "data": {
      "text/html": [
       "<div>\n",
       "<style scoped>\n",
       "    .dataframe tbody tr th:only-of-type {\n",
       "        vertical-align: middle;\n",
       "    }\n",
       "\n",
       "    .dataframe tbody tr th {\n",
       "        vertical-align: top;\n",
       "    }\n",
       "\n",
       "    .dataframe thead th {\n",
       "        text-align: right;\n",
       "    }\n",
       "</style>\n",
       "<table border=\"1\" class=\"dataframe\">\n",
       "  <thead>\n",
       "    <tr style=\"text-align: right;\">\n",
       "      <th></th>\n",
       "      <th>Neighborhood</th>\n",
       "      <th>Latitude</th>\n",
       "      <th>Longitude</th>\n",
       "      <th># Similar Restaurants Nearby</th>\n",
       "      <th>Total Population</th>\n",
       "      <th>Population of East Asian</th>\n",
       "      <th>Percentage of East Asian</th>\n",
       "      <th>Median household total income $</th>\n",
       "      <th>Clus_km</th>\n",
       "    </tr>\n",
       "  </thead>\n",
       "  <tbody>\n",
       "    <tr>\n",
       "      <th>16</th>\n",
       "      <td>Leaside</td>\n",
       "      <td>43.709060</td>\n",
       "      <td>-79.363452</td>\n",
       "      <td>2</td>\n",
       "      <td>17010</td>\n",
       "      <td>1020</td>\n",
       "      <td>0.06</td>\n",
       "      <td>102666.0</td>\n",
       "      <td>0</td>\n",
       "    </tr>\n",
       "    <tr>\n",
       "      <th>6</th>\n",
       "      <td>Highland Creek</td>\n",
       "      <td>43.784535</td>\n",
       "      <td>-79.160497</td>\n",
       "      <td>1</td>\n",
       "      <td>13100</td>\n",
       "      <td>1025</td>\n",
       "      <td>0.08</td>\n",
       "      <td>98087.0</td>\n",
       "      <td>0</td>\n",
       "    </tr>\n",
       "    <tr>\n",
       "      <th>38</th>\n",
       "      <td>Runnymede</td>\n",
       "      <td>43.673185</td>\n",
       "      <td>-79.487262</td>\n",
       "      <td>13</td>\n",
       "      <td>9635</td>\n",
       "      <td>670</td>\n",
       "      <td>0.07</td>\n",
       "      <td>91230.0</td>\n",
       "      <td>1</td>\n",
       "    </tr>\n",
       "    <tr>\n",
       "      <th>34</th>\n",
       "      <td>Bedford Park</td>\n",
       "      <td>43.733283</td>\n",
       "      <td>-79.419750</td>\n",
       "      <td>11</td>\n",
       "      <td>23185</td>\n",
       "      <td>865</td>\n",
       "      <td>0.04</td>\n",
       "      <td>90934.0</td>\n",
       "      <td>1</td>\n",
       "    </tr>\n",
       "    <tr>\n",
       "      <th>53</th>\n",
       "      <td>Rosedale</td>\n",
       "      <td>43.679563</td>\n",
       "      <td>-79.377529</td>\n",
       "      <td>2</td>\n",
       "      <td>20635</td>\n",
       "      <td>1175</td>\n",
       "      <td>0.06</td>\n",
       "      <td>88855.0</td>\n",
       "      <td>0</td>\n",
       "    </tr>\n",
       "  </tbody>\n",
       "</table>\n",
       "</div>"
      ],
      "text/plain": [
       "      Neighborhood   Latitude  Longitude  # Similar Restaurants Nearby  \\\n",
       "16         Leaside  43.709060 -79.363452                             2   \n",
       "6   Highland Creek  43.784535 -79.160497                             1   \n",
       "38       Runnymede  43.673185 -79.487262                            13   \n",
       "34    Bedford Park  43.733283 -79.419750                            11   \n",
       "53        Rosedale  43.679563 -79.377529                             2   \n",
       "\n",
       "    Total Population  Population of East Asian  Percentage of East Asian  \\\n",
       "16             17010                      1020                      0.06   \n",
       "6              13100                      1025                      0.08   \n",
       "38              9635                       670                      0.07   \n",
       "34             23185                       865                      0.04   \n",
       "53             20635                      1175                      0.06   \n",
       "\n",
       "    Median household total income $  Clus_km  \n",
       "16                         102666.0        0  \n",
       "6                           98087.0        0  \n",
       "38                          91230.0        1  \n",
       "34                          90934.0        1  \n",
       "53                          88855.0        0  "
      ]
     },
     "execution_count": 38,
     "metadata": {},
     "output_type": "execute_result"
    }
   ],
   "source": [
    "df_all[\"Clus_km\"] = kmeans.labels_\n",
    "df_all.head()"
   ]
  },
  {
   "cell_type": "markdown",
   "metadata": {},
   "source": [
    "#### Part 7: Visualize the different clusters on a Map of Toronto"
   ]
  },
  {
   "cell_type": "code",
   "execution_count": 39,
   "metadata": {},
   "outputs": [
    {
     "name": "stdout",
     "output_type": "stream",
     "text": [
      "The geograpical coordinate of Toronto are 43.6534817, -79.3839347.\n"
     ]
    }
   ],
   "source": [
    "address = 'Toronto, Canada'\n",
    "\n",
    "geolocator = Nominatim(user_agent=\"ny_explorer\")\n",
    "location = geolocator.geocode(address)\n",
    "latitude = location.latitude\n",
    "longitude = location.longitude\n",
    "print('The geograpical coordinate of Toronto are {}, {}.'.format(latitude, longitude))"
   ]
  },
  {
   "cell_type": "code",
   "execution_count": 40,
   "metadata": {},
   "outputs": [
    {
     "data": {
      "text/html": [
       "<div style=\"width:100%;\"><div style=\"position:relative;width:100%;height:0;padding-bottom:60%;\"><span style=\"color:#565656\">Make this Notebook Trusted to load map: File -> Trust Notebook</span><iframe src=\"about:blank\" style=\"position:absolute;width:100%;height:100%;left:0;top:0;border:none !important;\" data-html=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 onload=\"this.contentDocument.open();this.contentDocument.write(atob(this.getAttribute('data-html')));this.contentDocument.close();\" allowfullscreen webkitallowfullscreen mozallowfullscreen></iframe></div></div>"
      ],
      "text/plain": [
       "<folium.folium.Map at 0x7f6e35d62048>"
      ]
     },
     "execution_count": 40,
     "metadata": {},
     "output_type": "execute_result"
    }
   ],
   "source": [
    "import matplotlib.cm as cm\n",
    "import matplotlib.colors as colors\n",
    "\n",
    "kclusters = 6\n",
    "\n",
    "# create map\n",
    "map_clusters = folium.Map(location=[latitude, longitude], zoom_start=11)\n",
    "\n",
    "# set color scheme for the clusters\n",
    "x = np.arange(kclusters)\n",
    "ys = [i + x + (i*x)**2 for i in range(kclusters)]\n",
    "colors_array = cm.rainbow(np.linspace(0, 1, len(ys)))\n",
    "rainbow = [colors.rgb2hex(i) for i in colors_array]\n",
    "\n",
    "# add markers to the map\n",
    "markers_colors = []\n",
    "for lat, lon, poi, cluster in zip(df_all['Latitude'], df_all['Longitude'], df_all['Neighborhood'], df_all['Clus_km']):\n",
    "    label = folium.Popup(str(poi) + ' Cluster ' + str(cluster), parse_html=True)\n",
    "    folium.CircleMarker(\n",
    "        [lat, lon],\n",
    "        radius=5,\n",
    "        popup=label,\n",
    "        color=rainbow[cluster-1],\n",
    "        fill=True,\n",
    "        fill_color=rainbow[cluster-1],\n",
    "        fill_opacity=0.7).add_to(map_clusters)\n",
    "       \n",
    "map_clusters"
   ]
  },
  {
   "cell_type": "markdown",
   "metadata": {},
   "source": [
    "#### Part 8: Examine Clusters"
   ]
  },
  {
   "cell_type": "markdown",
   "metadata": {},
   "source": [
    "##### Cluster 0"
   ]
  },
  {
   "cell_type": "code",
   "execution_count": 41,
   "metadata": {},
   "outputs": [
    {
     "name": "stdout",
     "output_type": "stream",
     "text": [
      "(9, 9)\n"
     ]
    },
    {
     "data": {
      "text/html": [
       "<div>\n",
       "<style scoped>\n",
       "    .dataframe tbody tr th:only-of-type {\n",
       "        vertical-align: middle;\n",
       "    }\n",
       "\n",
       "    .dataframe tbody tr th {\n",
       "        vertical-align: top;\n",
       "    }\n",
       "\n",
       "    .dataframe thead th {\n",
       "        text-align: right;\n",
       "    }\n",
       "</style>\n",
       "<table border=\"1\" class=\"dataframe\">\n",
       "  <thead>\n",
       "    <tr style=\"text-align: right;\">\n",
       "      <th></th>\n",
       "      <th>Neighborhood</th>\n",
       "      <th>Latitude</th>\n",
       "      <th>Longitude</th>\n",
       "      <th># Similar Restaurants Nearby</th>\n",
       "      <th>Total Population</th>\n",
       "      <th>Population of East Asian</th>\n",
       "      <th>Percentage of East Asian</th>\n",
       "      <th>Median household total income $</th>\n",
       "      <th>Clus_km</th>\n",
       "    </tr>\n",
       "  </thead>\n",
       "  <tbody>\n",
       "    <tr>\n",
       "      <th>16</th>\n",
       "      <td>Leaside</td>\n",
       "      <td>43.709060</td>\n",
       "      <td>-79.363452</td>\n",
       "      <td>2</td>\n",
       "      <td>17010</td>\n",
       "      <td>1020</td>\n",
       "      <td>0.06</td>\n",
       "      <td>102666.0</td>\n",
       "      <td>0</td>\n",
       "    </tr>\n",
       "    <tr>\n",
       "      <th>6</th>\n",
       "      <td>Highland Creek</td>\n",
       "      <td>43.784535</td>\n",
       "      <td>-79.160497</td>\n",
       "      <td>1</td>\n",
       "      <td>13100</td>\n",
       "      <td>1025</td>\n",
       "      <td>0.08</td>\n",
       "      <td>98087.0</td>\n",
       "      <td>0</td>\n",
       "    </tr>\n",
       "    <tr>\n",
       "      <th>53</th>\n",
       "      <td>Rosedale</td>\n",
       "      <td>43.679563</td>\n",
       "      <td>-79.377529</td>\n",
       "      <td>2</td>\n",
       "      <td>20635</td>\n",
       "      <td>1175</td>\n",
       "      <td>0.06</td>\n",
       "      <td>88855.0</td>\n",
       "      <td>0</td>\n",
       "    </tr>\n",
       "    <tr>\n",
       "      <th>13</th>\n",
       "      <td>The Beaches</td>\n",
       "      <td>43.676357</td>\n",
       "      <td>-79.293031</td>\n",
       "      <td>7</td>\n",
       "      <td>21135</td>\n",
       "      <td>720</td>\n",
       "      <td>0.03</td>\n",
       "      <td>85028.0</td>\n",
       "      <td>0</td>\n",
       "    </tr>\n",
       "    <tr>\n",
       "      <th>8</th>\n",
       "      <td>Eringate</td>\n",
       "      <td>43.643515</td>\n",
       "      <td>-79.577201</td>\n",
       "      <td>0</td>\n",
       "      <td>18805</td>\n",
       "      <td>1360</td>\n",
       "      <td>0.07</td>\n",
       "      <td>80894.0</td>\n",
       "      <td>0</td>\n",
       "    </tr>\n",
       "    <tr>\n",
       "      <th>10</th>\n",
       "      <td>Guildwood</td>\n",
       "      <td>43.763573</td>\n",
       "      <td>-79.188711</td>\n",
       "      <td>4</td>\n",
       "      <td>9815</td>\n",
       "      <td>245</td>\n",
       "      <td>0.02</td>\n",
       "      <td>76055.0</td>\n",
       "      <td>0</td>\n",
       "    </tr>\n",
       "    <tr>\n",
       "      <th>9</th>\n",
       "      <td>Markland Wood</td>\n",
       "      <td>43.643515</td>\n",
       "      <td>-79.577201</td>\n",
       "      <td>0</td>\n",
       "      <td>10435</td>\n",
       "      <td>590</td>\n",
       "      <td>0.06</td>\n",
       "      <td>74376.0</td>\n",
       "      <td>0</td>\n",
       "    </tr>\n",
       "    <tr>\n",
       "      <th>54</th>\n",
       "      <td>Alderwood</td>\n",
       "      <td>43.602414</td>\n",
       "      <td>-79.543484</td>\n",
       "      <td>1</td>\n",
       "      <td>11900</td>\n",
       "      <td>355</td>\n",
       "      <td>0.03</td>\n",
       "      <td>71585.0</td>\n",
       "      <td>0</td>\n",
       "    </tr>\n",
       "    <tr>\n",
       "      <th>32</th>\n",
       "      <td>Cliffcrest</td>\n",
       "      <td>43.716316</td>\n",
       "      <td>-79.239476</td>\n",
       "      <td>1</td>\n",
       "      <td>15700</td>\n",
       "      <td>960</td>\n",
       "      <td>0.06</td>\n",
       "      <td>68647.0</td>\n",
       "      <td>0</td>\n",
       "    </tr>\n",
       "  </tbody>\n",
       "</table>\n",
       "</div>"
      ],
      "text/plain": [
       "      Neighborhood   Latitude  Longitude  # Similar Restaurants Nearby  \\\n",
       "16         Leaside  43.709060 -79.363452                             2   \n",
       "6   Highland Creek  43.784535 -79.160497                             1   \n",
       "53        Rosedale  43.679563 -79.377529                             2   \n",
       "13     The Beaches  43.676357 -79.293031                             7   \n",
       "8         Eringate  43.643515 -79.577201                             0   \n",
       "10       Guildwood  43.763573 -79.188711                             4   \n",
       "9    Markland Wood  43.643515 -79.577201                             0   \n",
       "54       Alderwood  43.602414 -79.543484                             1   \n",
       "32      Cliffcrest  43.716316 -79.239476                             1   \n",
       "\n",
       "    Total Population  Population of East Asian  Percentage of East Asian  \\\n",
       "16             17010                      1020                      0.06   \n",
       "6              13100                      1025                      0.08   \n",
       "53             20635                      1175                      0.06   \n",
       "13             21135                       720                      0.03   \n",
       "8              18805                      1360                      0.07   \n",
       "10              9815                       245                      0.02   \n",
       "9              10435                       590                      0.06   \n",
       "54             11900                       355                      0.03   \n",
       "32             15700                       960                      0.06   \n",
       "\n",
       "    Median household total income $  Clus_km  \n",
       "16                         102666.0        0  \n",
       "6                           98087.0        0  \n",
       "53                          88855.0        0  \n",
       "13                          85028.0        0  \n",
       "8                           80894.0        0  \n",
       "10                          76055.0        0  \n",
       "9                           74376.0        0  \n",
       "54                          71585.0        0  \n",
       "32                          68647.0        0  "
      ]
     },
     "execution_count": 41,
     "metadata": {},
     "output_type": "execute_result"
    }
   ],
   "source": [
    "# Median Household Income: High\n",
    "# Percentage of East Asian: Low\n",
    "# Similar Restaurants Nearby: Low\n",
    "\n",
    "print(df_all.loc[df_all['Clus_km'] == 0].shape)\n",
    "df_all.loc[df_all['Clus_km'] == 0]"
   ]
  },
  {
   "cell_type": "markdown",
   "metadata": {},
   "source": [
    "#### Cluster 1"
   ]
  },
  {
   "cell_type": "code",
   "execution_count": 42,
   "metadata": {},
   "outputs": [
    {
     "name": "stdout",
     "output_type": "stream",
     "text": [
      "(7, 9)\n"
     ]
    },
    {
     "data": {
      "text/html": [
       "<div>\n",
       "<style scoped>\n",
       "    .dataframe tbody tr th:only-of-type {\n",
       "        vertical-align: middle;\n",
       "    }\n",
       "\n",
       "    .dataframe tbody tr th {\n",
       "        vertical-align: top;\n",
       "    }\n",
       "\n",
       "    .dataframe thead th {\n",
       "        text-align: right;\n",
       "    }\n",
       "</style>\n",
       "<table border=\"1\" class=\"dataframe\">\n",
       "  <thead>\n",
       "    <tr style=\"text-align: right;\">\n",
       "      <th></th>\n",
       "      <th>Neighborhood</th>\n",
       "      <th>Latitude</th>\n",
       "      <th>Longitude</th>\n",
       "      <th># Similar Restaurants Nearby</th>\n",
       "      <th>Total Population</th>\n",
       "      <th>Population of East Asian</th>\n",
       "      <th>Percentage of East Asian</th>\n",
       "      <th>Median household total income $</th>\n",
       "      <th>Clus_km</th>\n",
       "    </tr>\n",
       "  </thead>\n",
       "  <tbody>\n",
       "    <tr>\n",
       "      <th>38</th>\n",
       "      <td>Runnymede</td>\n",
       "      <td>43.673185</td>\n",
       "      <td>-79.487262</td>\n",
       "      <td>13</td>\n",
       "      <td>9635</td>\n",
       "      <td>670</td>\n",
       "      <td>0.07</td>\n",
       "      <td>91230.0</td>\n",
       "      <td>1</td>\n",
       "    </tr>\n",
       "    <tr>\n",
       "      <th>34</th>\n",
       "      <td>Bedford Park</td>\n",
       "      <td>43.733283</td>\n",
       "      <td>-79.419750</td>\n",
       "      <td>11</td>\n",
       "      <td>23185</td>\n",
       "      <td>865</td>\n",
       "      <td>0.04</td>\n",
       "      <td>90934.0</td>\n",
       "      <td>1</td>\n",
       "    </tr>\n",
       "    <tr>\n",
       "      <th>42</th>\n",
       "      <td>High Park</td>\n",
       "      <td>43.661608</td>\n",
       "      <td>-79.464763</td>\n",
       "      <td>7</td>\n",
       "      <td>21750</td>\n",
       "      <td>1090</td>\n",
       "      <td>0.05</td>\n",
       "      <td>72286.0</td>\n",
       "      <td>1</td>\n",
       "    </tr>\n",
       "    <tr>\n",
       "      <th>22</th>\n",
       "      <td>Little Portugal</td>\n",
       "      <td>43.647927</td>\n",
       "      <td>-79.419750</td>\n",
       "      <td>12</td>\n",
       "      <td>12055</td>\n",
       "      <td>1160</td>\n",
       "      <td>0.10</td>\n",
       "      <td>59886.0</td>\n",
       "      <td>1</td>\n",
       "    </tr>\n",
       "    <tr>\n",
       "      <th>23</th>\n",
       "      <td>Trinity</td>\n",
       "      <td>43.647927</td>\n",
       "      <td>-79.419750</td>\n",
       "      <td>12</td>\n",
       "      <td>16805</td>\n",
       "      <td>3720</td>\n",
       "      <td>0.22</td>\n",
       "      <td>56368.0</td>\n",
       "      <td>1</td>\n",
       "    </tr>\n",
       "    <tr>\n",
       "      <th>41</th>\n",
       "      <td>Dorset Park</td>\n",
       "      <td>43.757410</td>\n",
       "      <td>-79.273304</td>\n",
       "      <td>11</td>\n",
       "      <td>24360</td>\n",
       "      <td>2795</td>\n",
       "      <td>0.11</td>\n",
       "      <td>51724.0</td>\n",
       "      <td>1</td>\n",
       "    </tr>\n",
       "    <tr>\n",
       "      <th>27</th>\n",
       "      <td>Downsview</td>\n",
       "      <td>43.737473</td>\n",
       "      <td>-79.464763</td>\n",
       "      <td>16</td>\n",
       "      <td>34650</td>\n",
       "      <td>840</td>\n",
       "      <td>0.02</td>\n",
       "      <td>47173.0</td>\n",
       "      <td>1</td>\n",
       "    </tr>\n",
       "  </tbody>\n",
       "</table>\n",
       "</div>"
      ],
      "text/plain": [
       "       Neighborhood   Latitude  Longitude  # Similar Restaurants Nearby  \\\n",
       "38        Runnymede  43.673185 -79.487262                            13   \n",
       "34     Bedford Park  43.733283 -79.419750                            11   \n",
       "42        High Park  43.661608 -79.464763                             7   \n",
       "22  Little Portugal  43.647927 -79.419750                            12   \n",
       "23          Trinity  43.647927 -79.419750                            12   \n",
       "41      Dorset Park  43.757410 -79.273304                            11   \n",
       "27        Downsview  43.737473 -79.464763                            16   \n",
       "\n",
       "    Total Population  Population of East Asian  Percentage of East Asian  \\\n",
       "38              9635                       670                      0.07   \n",
       "34             23185                       865                      0.04   \n",
       "42             21750                      1090                      0.05   \n",
       "22             12055                      1160                      0.10   \n",
       "23             16805                      3720                      0.22   \n",
       "41             24360                      2795                      0.11   \n",
       "27             34650                       840                      0.02   \n",
       "\n",
       "    Median household total income $  Clus_km  \n",
       "38                          91230.0        1  \n",
       "34                          90934.0        1  \n",
       "42                          72286.0        1  \n",
       "22                          59886.0        1  \n",
       "23                          56368.0        1  \n",
       "41                          51724.0        1  \n",
       "27                          47173.0        1  "
      ]
     },
     "execution_count": 42,
     "metadata": {},
     "output_type": "execute_result"
    }
   ],
   "source": [
    "# Median Household Income: Medium\n",
    "# Percentage of East Asian: Low\n",
    "# Similar Restaurants Nearby: High\n",
    "\n",
    "print(df_all.loc[df_all['Clus_km'] == 1].shape)\n",
    "df_all.loc[df_all['Clus_km'] == 1]"
   ]
  },
  {
   "cell_type": "markdown",
   "metadata": {},
   "source": [
    "#### Cluster 2"
   ]
  },
  {
   "cell_type": "code",
   "execution_count": 43,
   "metadata": {},
   "outputs": [
    {
     "name": "stdout",
     "output_type": "stream",
     "text": [
      "(4, 9)\n"
     ]
    },
    {
     "data": {
      "text/html": [
       "<div>\n",
       "<style scoped>\n",
       "    .dataframe tbody tr th:only-of-type {\n",
       "        vertical-align: middle;\n",
       "    }\n",
       "\n",
       "    .dataframe tbody tr th {\n",
       "        vertical-align: top;\n",
       "    }\n",
       "\n",
       "    .dataframe thead th {\n",
       "        text-align: right;\n",
       "    }\n",
       "</style>\n",
       "<table border=\"1\" class=\"dataframe\">\n",
       "  <thead>\n",
       "    <tr style=\"text-align: right;\">\n",
       "      <th></th>\n",
       "      <th>Neighborhood</th>\n",
       "      <th>Latitude</th>\n",
       "      <th>Longitude</th>\n",
       "      <th># Similar Restaurants Nearby</th>\n",
       "      <th>Total Population</th>\n",
       "      <th>Population of East Asian</th>\n",
       "      <th>Percentage of East Asian</th>\n",
       "      <th>Median household total income $</th>\n",
       "      <th>Clus_km</th>\n",
       "    </tr>\n",
       "  </thead>\n",
       "  <tbody>\n",
       "    <tr>\n",
       "      <th>26</th>\n",
       "      <td>Bayview Village</td>\n",
       "      <td>43.786947</td>\n",
       "      <td>-79.385975</td>\n",
       "      <td>4</td>\n",
       "      <td>17675</td>\n",
       "      <td>6135</td>\n",
       "      <td>0.35</td>\n",
       "      <td>67186.0</td>\n",
       "      <td>2</td>\n",
       "    </tr>\n",
       "    <tr>\n",
       "      <th>17</th>\n",
       "      <td>Hillcrest Village</td>\n",
       "      <td>43.803762</td>\n",
       "      <td>-79.363452</td>\n",
       "      <td>4</td>\n",
       "      <td>17650</td>\n",
       "      <td>8820</td>\n",
       "      <td>0.50</td>\n",
       "      <td>64522.0</td>\n",
       "      <td>2</td>\n",
       "    </tr>\n",
       "    <tr>\n",
       "      <th>43</th>\n",
       "      <td>Willowdale West</td>\n",
       "      <td>43.782736</td>\n",
       "      <td>-79.442259</td>\n",
       "      <td>1</td>\n",
       "      <td>15005</td>\n",
       "      <td>4265</td>\n",
       "      <td>0.28</td>\n",
       "      <td>60537.0</td>\n",
       "      <td>2</td>\n",
       "    </tr>\n",
       "    <tr>\n",
       "      <th>47</th>\n",
       "      <td>Tam O'Shanter</td>\n",
       "      <td>43.781638</td>\n",
       "      <td>-79.304302</td>\n",
       "      <td>11</td>\n",
       "      <td>27390</td>\n",
       "      <td>9725</td>\n",
       "      <td>0.36</td>\n",
       "      <td>49720.0</td>\n",
       "      <td>2</td>\n",
       "    </tr>\n",
       "  </tbody>\n",
       "</table>\n",
       "</div>"
      ],
      "text/plain": [
       "         Neighborhood   Latitude  Longitude  # Similar Restaurants Nearby  \\\n",
       "26    Bayview Village  43.786947 -79.385975                             4   \n",
       "17  Hillcrest Village  43.803762 -79.363452                             4   \n",
       "43    Willowdale West  43.782736 -79.442259                             1   \n",
       "47      Tam O'Shanter  43.781638 -79.304302                            11   \n",
       "\n",
       "    Total Population  Population of East Asian  Percentage of East Asian  \\\n",
       "26             17675                      6135                      0.35   \n",
       "17             17650                      8820                      0.50   \n",
       "43             15005                      4265                      0.28   \n",
       "47             27390                      9725                      0.36   \n",
       "\n",
       "    Median household total income $  Clus_km  \n",
       "26                          67186.0        2  \n",
       "17                          64522.0        2  \n",
       "43                          60537.0        2  \n",
       "47                          49720.0        2  "
      ]
     },
     "execution_count": 43,
     "metadata": {},
     "output_type": "execute_result"
    }
   ],
   "source": [
    "# Median Household Income: Medium\n",
    "# Percentage of East Asian: Medium\n",
    "# Similar Restaurants Nearby: Low\n",
    "\n",
    "print(df_all.loc[df_all['Clus_km'] == 2].shape)\n",
    "df_all.loc[df_all['Clus_km'] == 2]"
   ]
  },
  {
   "cell_type": "markdown",
   "metadata": {},
   "source": [
    "#### Cluster 3"
   ]
  },
  {
   "cell_type": "code",
   "execution_count": 44,
   "metadata": {},
   "outputs": [
    {
     "name": "stdout",
     "output_type": "stream",
     "text": [
      "(23, 9)\n"
     ]
    },
    {
     "data": {
      "text/html": [
       "<div>\n",
       "<style scoped>\n",
       "    .dataframe tbody tr th:only-of-type {\n",
       "        vertical-align: middle;\n",
       "    }\n",
       "\n",
       "    .dataframe tbody tr th {\n",
       "        vertical-align: top;\n",
       "    }\n",
       "\n",
       "    .dataframe thead th {\n",
       "        text-align: right;\n",
       "    }\n",
       "</style>\n",
       "<table border=\"1\" class=\"dataframe\">\n",
       "  <thead>\n",
       "    <tr style=\"text-align: right;\">\n",
       "      <th></th>\n",
       "      <th>Neighborhood</th>\n",
       "      <th>Latitude</th>\n",
       "      <th>Longitude</th>\n",
       "      <th># Similar Restaurants Nearby</th>\n",
       "      <th>Total Population</th>\n",
       "      <th>Population of East Asian</th>\n",
       "      <th>Percentage of East Asian</th>\n",
       "      <th>Median household total income $</th>\n",
       "      <th>Clus_km</th>\n",
       "    </tr>\n",
       "  </thead>\n",
       "  <tbody>\n",
       "    <tr>\n",
       "      <th>52</th>\n",
       "      <td>Thistletown</td>\n",
       "      <td>43.739416</td>\n",
       "      <td>-79.588437</td>\n",
       "      <td>2</td>\n",
       "      <td>10140</td>\n",
       "      <td>115</td>\n",
       "      <td>0.01</td>\n",
       "      <td>62042.0</td>\n",
       "      <td>3</td>\n",
       "    </tr>\n",
       "    <tr>\n",
       "      <th>57</th>\n",
       "      <td>Cabbagetown</td>\n",
       "      <td>43.667967</td>\n",
       "      <td>-79.367675</td>\n",
       "      <td>8</td>\n",
       "      <td>12050</td>\n",
       "      <td>695</td>\n",
       "      <td>0.06</td>\n",
       "      <td>60268.0</td>\n",
       "      <td>3</td>\n",
       "    </tr>\n",
       "    <tr>\n",
       "      <th>28</th>\n",
       "      <td>Clairlea</td>\n",
       "      <td>43.711112</td>\n",
       "      <td>-79.284577</td>\n",
       "      <td>3</td>\n",
       "      <td>24775</td>\n",
       "      <td>2130</td>\n",
       "      <td>0.09</td>\n",
       "      <td>59224.0</td>\n",
       "      <td>3</td>\n",
       "    </tr>\n",
       "    <tr>\n",
       "      <th>31</th>\n",
       "      <td>Humber Summit</td>\n",
       "      <td>43.756303</td>\n",
       "      <td>-79.565963</td>\n",
       "      <td>1</td>\n",
       "      <td>12530</td>\n",
       "      <td>65</td>\n",
       "      <td>0.01</td>\n",
       "      <td>57786.0</td>\n",
       "      <td>3</td>\n",
       "    </tr>\n",
       "    <tr>\n",
       "      <th>7</th>\n",
       "      <td>Humewood</td>\n",
       "      <td>43.693781</td>\n",
       "      <td>-79.428191</td>\n",
       "      <td>5</td>\n",
       "      <td>14110</td>\n",
       "      <td>570</td>\n",
       "      <td>0.04</td>\n",
       "      <td>57140.0</td>\n",
       "      <td>3</td>\n",
       "    </tr>\n",
       "    <tr>\n",
       "      <th>18</th>\n",
       "      <td>Bathurst Manor</td>\n",
       "      <td>43.754328</td>\n",
       "      <td>-79.442259</td>\n",
       "      <td>4</td>\n",
       "      <td>15435</td>\n",
       "      <td>570</td>\n",
       "      <td>0.04</td>\n",
       "      <td>56563.0</td>\n",
       "      <td>3</td>\n",
       "    </tr>\n",
       "    <tr>\n",
       "      <th>14</th>\n",
       "      <td>Caledonia</td>\n",
       "      <td>43.689026</td>\n",
       "      <td>-79.453512</td>\n",
       "      <td>5</td>\n",
       "      <td>9855</td>\n",
       "      <td>155</td>\n",
       "      <td>0.02</td>\n",
       "      <td>56115.0</td>\n",
       "      <td>3</td>\n",
       "    </tr>\n",
       "    <tr>\n",
       "      <th>45</th>\n",
       "      <td>Kingsview Village</td>\n",
       "      <td>43.688905</td>\n",
       "      <td>-79.554724</td>\n",
       "      <td>2</td>\n",
       "      <td>21725</td>\n",
       "      <td>665</td>\n",
       "      <td>0.03</td>\n",
       "      <td>55454.0</td>\n",
       "      <td>3</td>\n",
       "    </tr>\n",
       "    <tr>\n",
       "      <th>11</th>\n",
       "      <td>Morningside</td>\n",
       "      <td>43.763573</td>\n",
       "      <td>-79.188711</td>\n",
       "      <td>4</td>\n",
       "      <td>17585</td>\n",
       "      <td>755</td>\n",
       "      <td>0.04</td>\n",
       "      <td>54746.0</td>\n",
       "      <td>3</td>\n",
       "    </tr>\n",
       "    <tr>\n",
       "      <th>55</th>\n",
       "      <td>Long Branch</td>\n",
       "      <td>43.602414</td>\n",
       "      <td>-79.543484</td>\n",
       "      <td>1</td>\n",
       "      <td>9630</td>\n",
       "      <td>315</td>\n",
       "      <td>0.03</td>\n",
       "      <td>52771.0</td>\n",
       "      <td>3</td>\n",
       "    </tr>\n",
       "    <tr>\n",
       "      <th>21</th>\n",
       "      <td>Henry Farm</td>\n",
       "      <td>43.778517</td>\n",
       "      <td>-79.346556</td>\n",
       "      <td>6</td>\n",
       "      <td>11340</td>\n",
       "      <td>2255</td>\n",
       "      <td>0.20</td>\n",
       "      <td>52675.0</td>\n",
       "      <td>3</td>\n",
       "    </tr>\n",
       "    <tr>\n",
       "      <th>44</th>\n",
       "      <td>Roncesvalles</td>\n",
       "      <td>43.648960</td>\n",
       "      <td>-79.456325</td>\n",
       "      <td>7</td>\n",
       "      <td>15050</td>\n",
       "      <td>880</td>\n",
       "      <td>0.06</td>\n",
       "      <td>52154.0</td>\n",
       "      <td>3</td>\n",
       "    </tr>\n",
       "    <tr>\n",
       "      <th>39</th>\n",
       "      <td>Weston</td>\n",
       "      <td>43.706876</td>\n",
       "      <td>-79.518188</td>\n",
       "      <td>1</td>\n",
       "      <td>12015</td>\n",
       "      <td>435</td>\n",
       "      <td>0.04</td>\n",
       "      <td>51205.0</td>\n",
       "      <td>3</td>\n",
       "    </tr>\n",
       "    <tr>\n",
       "      <th>12</th>\n",
       "      <td>West Hill</td>\n",
       "      <td>43.763573</td>\n",
       "      <td>-79.188711</td>\n",
       "      <td>4</td>\n",
       "      <td>26550</td>\n",
       "      <td>990</td>\n",
       "      <td>0.04</td>\n",
       "      <td>49713.0</td>\n",
       "      <td>3</td>\n",
       "    </tr>\n",
       "    <tr>\n",
       "      <th>1</th>\n",
       "      <td>Victoria Village</td>\n",
       "      <td>43.725882</td>\n",
       "      <td>-79.315572</td>\n",
       "      <td>1</td>\n",
       "      <td>17180</td>\n",
       "      <td>980</td>\n",
       "      <td>0.06</td>\n",
       "      <td>47529.0</td>\n",
       "      <td>3</td>\n",
       "    </tr>\n",
       "    <tr>\n",
       "      <th>25</th>\n",
       "      <td>Ionview</td>\n",
       "      <td>43.727929</td>\n",
       "      <td>-79.262029</td>\n",
       "      <td>6</td>\n",
       "      <td>13095</td>\n",
       "      <td>1015</td>\n",
       "      <td>0.08</td>\n",
       "      <td>46955.0</td>\n",
       "      <td>3</td>\n",
       "    </tr>\n",
       "    <tr>\n",
       "      <th>35</th>\n",
       "      <td>Mount Dennis</td>\n",
       "      <td>43.691116</td>\n",
       "      <td>-79.476013</td>\n",
       "      <td>3</td>\n",
       "      <td>13150</td>\n",
       "      <td>520</td>\n",
       "      <td>0.04</td>\n",
       "      <td>46811.0</td>\n",
       "      <td>3</td>\n",
       "    </tr>\n",
       "    <tr>\n",
       "      <th>24</th>\n",
       "      <td>Kennedy Park</td>\n",
       "      <td>43.727929</td>\n",
       "      <td>-79.262029</td>\n",
       "      <td>6</td>\n",
       "      <td>17050</td>\n",
       "      <td>1325</td>\n",
       "      <td>0.08</td>\n",
       "      <td>44226.0</td>\n",
       "      <td>3</td>\n",
       "    </tr>\n",
       "    <tr>\n",
       "      <th>50</th>\n",
       "      <td>New Toronto</td>\n",
       "      <td>43.605647</td>\n",
       "      <td>-79.501321</td>\n",
       "      <td>6</td>\n",
       "      <td>10905</td>\n",
       "      <td>275</td>\n",
       "      <td>0.03</td>\n",
       "      <td>44141.0</td>\n",
       "      <td>3</td>\n",
       "    </tr>\n",
       "    <tr>\n",
       "      <th>20</th>\n",
       "      <td>Scarborough Village</td>\n",
       "      <td>43.744734</td>\n",
       "      <td>-79.239476</td>\n",
       "      <td>3</td>\n",
       "      <td>16615</td>\n",
       "      <td>500</td>\n",
       "      <td>0.03</td>\n",
       "      <td>42131.0</td>\n",
       "      <td>3</td>\n",
       "    </tr>\n",
       "    <tr>\n",
       "      <th>19</th>\n",
       "      <td>Thorncliffe Park</td>\n",
       "      <td>43.705369</td>\n",
       "      <td>-79.349372</td>\n",
       "      <td>6</td>\n",
       "      <td>19225</td>\n",
       "      <td>510</td>\n",
       "      <td>0.03</td>\n",
       "      <td>40795.0</td>\n",
       "      <td>3</td>\n",
       "    </tr>\n",
       "    <tr>\n",
       "      <th>29</th>\n",
       "      <td>Oakridge</td>\n",
       "      <td>43.711112</td>\n",
       "      <td>-79.284577</td>\n",
       "      <td>3</td>\n",
       "      <td>13505</td>\n",
       "      <td>800</td>\n",
       "      <td>0.06</td>\n",
       "      <td>33980.0</td>\n",
       "      <td>3</td>\n",
       "    </tr>\n",
       "    <tr>\n",
       "      <th>2</th>\n",
       "      <td>Regent Park</td>\n",
       "      <td>43.654260</td>\n",
       "      <td>-79.360636</td>\n",
       "      <td>5</td>\n",
       "      <td>10010</td>\n",
       "      <td>1300</td>\n",
       "      <td>0.13</td>\n",
       "      <td>32172.0</td>\n",
       "      <td>3</td>\n",
       "    </tr>\n",
       "  </tbody>\n",
       "</table>\n",
       "</div>"
      ],
      "text/plain": [
       "           Neighborhood   Latitude  Longitude  # Similar Restaurants Nearby  \\\n",
       "52          Thistletown  43.739416 -79.588437                             2   \n",
       "57          Cabbagetown  43.667967 -79.367675                             8   \n",
       "28             Clairlea  43.711112 -79.284577                             3   \n",
       "31        Humber Summit  43.756303 -79.565963                             1   \n",
       "7              Humewood  43.693781 -79.428191                             5   \n",
       "18       Bathurst Manor  43.754328 -79.442259                             4   \n",
       "14            Caledonia  43.689026 -79.453512                             5   \n",
       "45    Kingsview Village  43.688905 -79.554724                             2   \n",
       "11          Morningside  43.763573 -79.188711                             4   \n",
       "55          Long Branch  43.602414 -79.543484                             1   \n",
       "21           Henry Farm  43.778517 -79.346556                             6   \n",
       "44         Roncesvalles  43.648960 -79.456325                             7   \n",
       "39               Weston  43.706876 -79.518188                             1   \n",
       "12            West Hill  43.763573 -79.188711                             4   \n",
       "1      Victoria Village  43.725882 -79.315572                             1   \n",
       "25              Ionview  43.727929 -79.262029                             6   \n",
       "35         Mount Dennis  43.691116 -79.476013                             3   \n",
       "24         Kennedy Park  43.727929 -79.262029                             6   \n",
       "50          New Toronto  43.605647 -79.501321                             6   \n",
       "20  Scarborough Village  43.744734 -79.239476                             3   \n",
       "19     Thorncliffe Park  43.705369 -79.349372                             6   \n",
       "29             Oakridge  43.711112 -79.284577                             3   \n",
       "2           Regent Park  43.654260 -79.360636                             5   \n",
       "\n",
       "    Total Population  Population of East Asian  Percentage of East Asian  \\\n",
       "52             10140                       115                      0.01   \n",
       "57             12050                       695                      0.06   \n",
       "28             24775                      2130                      0.09   \n",
       "31             12530                        65                      0.01   \n",
       "7              14110                       570                      0.04   \n",
       "18             15435                       570                      0.04   \n",
       "14              9855                       155                      0.02   \n",
       "45             21725                       665                      0.03   \n",
       "11             17585                       755                      0.04   \n",
       "55              9630                       315                      0.03   \n",
       "21             11340                      2255                      0.20   \n",
       "44             15050                       880                      0.06   \n",
       "39             12015                       435                      0.04   \n",
       "12             26550                       990                      0.04   \n",
       "1              17180                       980                      0.06   \n",
       "25             13095                      1015                      0.08   \n",
       "35             13150                       520                      0.04   \n",
       "24             17050                      1325                      0.08   \n",
       "50             10905                       275                      0.03   \n",
       "20             16615                       500                      0.03   \n",
       "19             19225                       510                      0.03   \n",
       "29             13505                       800                      0.06   \n",
       "2              10010                      1300                      0.13   \n",
       "\n",
       "    Median household total income $  Clus_km  \n",
       "52                          62042.0        3  \n",
       "57                          60268.0        3  \n",
       "28                          59224.0        3  \n",
       "31                          57786.0        3  \n",
       "7                           57140.0        3  \n",
       "18                          56563.0        3  \n",
       "14                          56115.0        3  \n",
       "45                          55454.0        3  \n",
       "11                          54746.0        3  \n",
       "55                          52771.0        3  \n",
       "21                          52675.0        3  \n",
       "44                          52154.0        3  \n",
       "39                          51205.0        3  \n",
       "12                          49713.0        3  \n",
       "1                           47529.0        3  \n",
       "25                          46955.0        3  \n",
       "35                          46811.0        3  \n",
       "24                          44226.0        3  \n",
       "50                          44141.0        3  \n",
       "20                          42131.0        3  \n",
       "19                          40795.0        3  \n",
       "29                          33980.0        3  \n",
       "2                           32172.0        3  "
      ]
     },
     "execution_count": 44,
     "metadata": {},
     "output_type": "execute_result"
    }
   ],
   "source": [
    "# Median Household Income: Low\n",
    "# Percentage of East Asian: Low\n",
    "# Similar Restaurants Nearby: Low\n",
    "\n",
    "print(df_all.loc[df_all['Clus_km'] == 3].shape)\n",
    "df_all.loc[df_all['Clus_km'] == 3]"
   ]
  },
  {
   "cell_type": "markdown",
   "metadata": {},
   "source": [
    "#### Cluster 4"
   ]
  },
  {
   "cell_type": "code",
   "execution_count": 45,
   "metadata": {},
   "outputs": [
    {
     "name": "stdout",
     "output_type": "stream",
     "text": [
      "(3, 9)\n"
     ]
    },
    {
     "data": {
      "text/html": [
       "<div>\n",
       "<style scoped>\n",
       "    .dataframe tbody tr th:only-of-type {\n",
       "        vertical-align: middle;\n",
       "    }\n",
       "\n",
       "    .dataframe tbody tr th {\n",
       "        vertical-align: top;\n",
       "    }\n",
       "\n",
       "    .dataframe thead th {\n",
       "        text-align: right;\n",
       "    }\n",
       "</style>\n",
       "<table border=\"1\" class=\"dataframe\">\n",
       "  <thead>\n",
       "    <tr style=\"text-align: right;\">\n",
       "      <th></th>\n",
       "      <th>Neighborhood</th>\n",
       "      <th>Latitude</th>\n",
       "      <th>Longitude</th>\n",
       "      <th># Similar Restaurants Nearby</th>\n",
       "      <th>Total Population</th>\n",
       "      <th>Population of East Asian</th>\n",
       "      <th>Percentage of East Asian</th>\n",
       "      <th>Median household total income $</th>\n",
       "      <th>Clus_km</th>\n",
       "    </tr>\n",
       "  </thead>\n",
       "  <tbody>\n",
       "    <tr>\n",
       "      <th>36</th>\n",
       "      <td>Willowdale East</td>\n",
       "      <td>43.770120</td>\n",
       "      <td>-79.408493</td>\n",
       "      <td>10</td>\n",
       "      <td>45025</td>\n",
       "      <td>19965</td>\n",
       "      <td>0.44</td>\n",
       "      <td>64362.0</td>\n",
       "      <td>4</td>\n",
       "    </tr>\n",
       "    <tr>\n",
       "      <th>48</th>\n",
       "      <td>Milliken</td>\n",
       "      <td>43.815252</td>\n",
       "      <td>-79.284577</td>\n",
       "      <td>8</td>\n",
       "      <td>27160</td>\n",
       "      <td>18135</td>\n",
       "      <td>0.67</td>\n",
       "      <td>60262.0</td>\n",
       "      <td>4</td>\n",
       "    </tr>\n",
       "    <tr>\n",
       "      <th>49</th>\n",
       "      <td>Agincourt North</td>\n",
       "      <td>43.815252</td>\n",
       "      <td>-79.284577</td>\n",
       "      <td>8</td>\n",
       "      <td>30280</td>\n",
       "      <td>16765</td>\n",
       "      <td>0.55</td>\n",
       "      <td>60162.0</td>\n",
       "      <td>4</td>\n",
       "    </tr>\n",
       "  </tbody>\n",
       "</table>\n",
       "</div>"
      ],
      "text/plain": [
       "       Neighborhood   Latitude  Longitude  # Similar Restaurants Nearby  \\\n",
       "36  Willowdale East  43.770120 -79.408493                            10   \n",
       "48         Milliken  43.815252 -79.284577                             8   \n",
       "49  Agincourt North  43.815252 -79.284577                             8   \n",
       "\n",
       "    Total Population  Population of East Asian  Percentage of East Asian  \\\n",
       "36             45025                     19965                      0.44   \n",
       "48             27160                     18135                      0.67   \n",
       "49             30280                     16765                      0.55   \n",
       "\n",
       "    Median household total income $  Clus_km  \n",
       "36                          64362.0        4  \n",
       "48                          60262.0        4  \n",
       "49                          60162.0        4  "
      ]
     },
     "execution_count": 45,
     "metadata": {},
     "output_type": "execute_result"
    }
   ],
   "source": [
    "# Median Household Income: Medium\n",
    "# Percentage of East Asian: High\n",
    "# Similar Restaurants Nearby: Medium\n",
    "\n",
    "print(df_all.loc[df_all['Clus_km'] == 4].shape)\n",
    "df_all.loc[df_all['Clus_km'] == 4]"
   ]
  },
  {
   "cell_type": "markdown",
   "metadata": {},
   "source": [
    "#### Cluster 5"
   ]
  },
  {
   "cell_type": "code",
   "execution_count": 46,
   "metadata": {},
   "outputs": [
    {
     "name": "stdout",
     "output_type": "stream",
     "text": [
      "(7, 9)\n"
     ]
    },
    {
     "data": {
      "text/html": [
       "<div>\n",
       "<style scoped>\n",
       "    .dataframe tbody tr th:only-of-type {\n",
       "        vertical-align: middle;\n",
       "    }\n",
       "\n",
       "    .dataframe tbody tr th {\n",
       "        vertical-align: top;\n",
       "    }\n",
       "\n",
       "    .dataframe thead th {\n",
       "        text-align: right;\n",
       "    }\n",
       "</style>\n",
       "<table border=\"1\" class=\"dataframe\">\n",
       "  <thead>\n",
       "    <tr style=\"text-align: right;\">\n",
       "      <th></th>\n",
       "      <th>Neighborhood</th>\n",
       "      <th>Latitude</th>\n",
       "      <th>Longitude</th>\n",
       "      <th># Similar Restaurants Nearby</th>\n",
       "      <th>Total Population</th>\n",
       "      <th>Population of East Asian</th>\n",
       "      <th>Percentage of East Asian</th>\n",
       "      <th>Median household total income $</th>\n",
       "      <th>Clus_km</th>\n",
       "    </tr>\n",
       "  </thead>\n",
       "  <tbody>\n",
       "    <tr>\n",
       "      <th>4</th>\n",
       "      <td>Rouge</td>\n",
       "      <td>43.806686</td>\n",
       "      <td>-79.194353</td>\n",
       "      <td>7</td>\n",
       "      <td>45905</td>\n",
       "      <td>2205</td>\n",
       "      <td>0.05</td>\n",
       "      <td>81553.0</td>\n",
       "      <td>5</td>\n",
       "    </tr>\n",
       "    <tr>\n",
       "      <th>5</th>\n",
       "      <td>Islington</td>\n",
       "      <td>43.650943</td>\n",
       "      <td>-79.554724</td>\n",
       "      <td>2</td>\n",
       "      <td>38070</td>\n",
       "      <td>3050</td>\n",
       "      <td>0.08</td>\n",
       "      <td>66537.0</td>\n",
       "      <td>5</td>\n",
       "    </tr>\n",
       "    <tr>\n",
       "      <th>56</th>\n",
       "      <td>West Humber</td>\n",
       "      <td>43.706748</td>\n",
       "      <td>-79.594054</td>\n",
       "      <td>0</td>\n",
       "      <td>34100</td>\n",
       "      <td>850</td>\n",
       "      <td>0.02</td>\n",
       "      <td>66241.0</td>\n",
       "      <td>5</td>\n",
       "    </tr>\n",
       "    <tr>\n",
       "      <th>0</th>\n",
       "      <td>Parkwoods</td>\n",
       "      <td>43.753259</td>\n",
       "      <td>-79.329656</td>\n",
       "      <td>3</td>\n",
       "      <td>34620</td>\n",
       "      <td>3910</td>\n",
       "      <td>0.11</td>\n",
       "      <td>59027.0</td>\n",
       "      <td>5</td>\n",
       "    </tr>\n",
       "    <tr>\n",
       "      <th>3</th>\n",
       "      <td>Malvern</td>\n",
       "      <td>43.806686</td>\n",
       "      <td>-79.194353</td>\n",
       "      <td>7</td>\n",
       "      <td>45085</td>\n",
       "      <td>3540</td>\n",
       "      <td>0.08</td>\n",
       "      <td>57528.0</td>\n",
       "      <td>5</td>\n",
       "    </tr>\n",
       "    <tr>\n",
       "      <th>15</th>\n",
       "      <td>Woburn</td>\n",
       "      <td>43.770992</td>\n",
       "      <td>-79.216917</td>\n",
       "      <td>3</td>\n",
       "      <td>53350</td>\n",
       "      <td>4310</td>\n",
       "      <td>0.08</td>\n",
       "      <td>52018.0</td>\n",
       "      <td>5</td>\n",
       "    </tr>\n",
       "    <tr>\n",
       "      <th>51</th>\n",
       "      <td>Mount Olive</td>\n",
       "      <td>43.739416</td>\n",
       "      <td>-79.588437</td>\n",
       "      <td>2</td>\n",
       "      <td>32790</td>\n",
       "      <td>285</td>\n",
       "      <td>0.01</td>\n",
       "      <td>49934.0</td>\n",
       "      <td>5</td>\n",
       "    </tr>\n",
       "  </tbody>\n",
       "</table>\n",
       "</div>"
      ],
      "text/plain": [
       "   Neighborhood   Latitude  Longitude  # Similar Restaurants Nearby  \\\n",
       "4         Rouge  43.806686 -79.194353                             7   \n",
       "5     Islington  43.650943 -79.554724                             2   \n",
       "56  West Humber  43.706748 -79.594054                             0   \n",
       "0     Parkwoods  43.753259 -79.329656                             3   \n",
       "3       Malvern  43.806686 -79.194353                             7   \n",
       "15       Woburn  43.770992 -79.216917                             3   \n",
       "51  Mount Olive  43.739416 -79.588437                             2   \n",
       "\n",
       "    Total Population  Population of East Asian  Percentage of East Asian  \\\n",
       "4              45905                      2205                      0.05   \n",
       "5              38070                      3050                      0.08   \n",
       "56             34100                       850                      0.02   \n",
       "0              34620                      3910                      0.11   \n",
       "3              45085                      3540                      0.08   \n",
       "15             53350                      4310                      0.08   \n",
       "51             32790                       285                      0.01   \n",
       "\n",
       "    Median household total income $  Clus_km  \n",
       "4                           81553.0        5  \n",
       "5                           66537.0        5  \n",
       "56                          66241.0        5  \n",
       "0                           59027.0        5  \n",
       "3                           57528.0        5  \n",
       "15                          52018.0        5  \n",
       "51                          49934.0        5  "
      ]
     },
     "execution_count": 46,
     "metadata": {},
     "output_type": "execute_result"
    }
   ],
   "source": [
    "# Median Household Income: Medium\n",
    "# Percentage of East Asian: Low\n",
    "# Similar Restaurants Nearby: Medium\n",
    "\n",
    "print(df_all.loc[df_all['Clus_km'] == 5].shape)\n",
    "df_all.loc[df_all['Clus_km'] == 5]"
   ]
  },
  {
   "cell_type": "markdown",
   "metadata": {},
   "source": [
    "# 3. Methodology"
   ]
  },
  {
   "cell_type": "markdown",
   "metadata": {},
   "source": [
    "### a. Why analyze number of Japanese restaurants in each neighborhood"
   ]
  },
  {
   "cell_type": "markdown",
   "metadata": {},
   "source": [
    "We used the Foursquare API, mainly the Venue Explore endpoint, to retrieve nearby Japanese restaurants within 1000 meters of each neighborhood. The assumption is that if there is a high number of similar restaurants nearby, this can generate a lot of competition for our client's new business, which can go in a negative way if other restaurants already have many loyal customers."
   ]
  },
  {
   "cell_type": "markdown",
   "metadata": {},
   "source": [
    "### b. Why analyze the ratio of East Asian population to total population in each neighborhood"
   ]
  },
  {
   "cell_type": "markdown",
   "metadata": {},
   "source": [
    "We assume there is a positive correlation between the percentage of East Asian population and the demand for Japanese cuisine; therefore, it would benefit our client's business growth if the restaurant were to start up at neighborhood with a relatively densely populated location among East Asians."
   ]
  },
  {
   "cell_type": "markdown",
   "metadata": {},
   "source": [
    "### c. Why analyze the median household total income in each neighborhood"
   ]
  },
  {
   "cell_type": "markdown",
   "metadata": {},
   "source": [
    "Japanese cuisine prices usually tend to be more suitable for middle class income earners and up; therefore, analyzing the median household total income can let us know that if these relative prices could potentially be scaled too expensive for some neighborhoods."
   ]
  },
  {
   "cell_type": "markdown",
   "metadata": {},
   "source": [
    "### d. Predictive Modeling : KMeans Clustering"
   ]
  },
  {
   "cell_type": "markdown",
   "metadata": {},
   "source": [
    "#### Data Preprocessing"
   ]
  },
  {
   "cell_type": "markdown",
   "metadata": {},
   "source": [
    "In order to segment the Toronto neighborhoods into groups based on their numerical distribution and magnitudes, a good approach for this unsupervised learning task is using KMeans Clustering. \n",
    "\n",
    "We must first normalize our quantitative features to a common scale, so that our model can interpret the values equally. For this occasion, we use the StandardScaler to normalize our data."
   ]
  },
  {
   "cell_type": "markdown",
   "metadata": {},
   "source": [
    "#### Building a KMeans Clustering Model"
   ]
  },
  {
   "cell_type": "markdown",
   "metadata": {},
   "source": [
    "One of the important aspects of instantiating a KMeans Clustering model is to specify the most optimal number of clusters for the algorithm to label. Using the Elbow method, we calculated the squared error for a range of 1-10 for our K number of clusters. It was determined that K=6 would deliver the best results for our predictive algorithm.\n",
    "\n",
    "Next we go ahead and fit our standardized features into the KMeans Cluster model to segment each neighborhood into a cluster."
   ]
  },
  {
   "cell_type": "markdown",
   "metadata": {},
   "source": [
    "# 4. Results"
   ]
  },
  {
   "cell_type": "markdown",
   "metadata": {},
   "source": [
    "Cluster 0 segments the neighborhoods with the highest level of spending power among the clusters and low competition in Japanese Cuisine. However, it also shows that there is a low number in East Asian population, leaving us with an assumption that Japanese cuisine is most likely not in high demand, which could explain why competition was low in the area.\n",
    "* Median Household Income: High\n",
    "* Percentage of East Asian: Low\n",
    "* Similar Restaurants Nearby: Low\n",
    "\n",
    "Custer 1 shows the group with a medium level spending power. Although, this would be adequate for our business, but both the high number of competitions nearby and a low population of our target customer brings negative value to the growth of our business.\n",
    "* Median Household Income: Medium\n",
    "* Percentage of East Asian: Low\n",
    "* Similar Restaurants Nearby: High\n",
    "\n",
    "Cluster 2 shows a medium level of spending power and low competition. The locations are fairly populated with East Asians, which does show potential value; however this segment is expressing a greater population of our target customers can further increase the demand for Japanese Cuisine in the area.\n",
    "* Median Household Income: Medium\n",
    "* Percentage of East Asian: Medium\n",
    "* Similar Restaurants Nearby: Low\n",
    "\n",
    "Cluster 3 describes the group of neighborhood to have a relatively low spending power in each household compared to neighborhoods in other clusters. Although, there is a low number of competition in the area, there also is a low population of the target customers for our client's business.\n",
    "* Median Household Income: Low\n",
    "* Percentage of East Asian: Low\n",
    "* Similar Restaurants Nearby: Low\n",
    "\n",
    "Cluster 4 shows the neighborhoods with a great number of East Asian residents among total residents, giving our client's business a good chance to attract the local target consumers. The average household income among the group also shows that is adequate for the typical pricing for Japanese cuisine. The fair number of competitions allows our new business to stick out among the others, while also supporting the hypothesis that East Asian cuisine is somewhat popular to locals.\n",
    "* Median Household Income: Medium\n",
    "* Percentage of East Asian: High\n",
    "* Similar Restaurants Nearby: Medium\n",
    "\n",
    "While Cluster 5 shows that the medium spending power is suitable for typical Japanese cuisine prices and fair number of competitions nearby, it does not seem there will be sufficient amount of the target customers living nearby.\n",
    "* Median Household Income: Medium\n",
    "* Percentage of East Asian: Low\n",
    "* Similar Restaurants Nearby: Medium\n",
    "\n"
   ]
  },
  {
   "cell_type": "markdown",
   "metadata": {},
   "source": [
    "# 5. Discussion"
   ]
  },
  {
   "cell_type": "markdown",
   "metadata": {},
   "source": [
    "Milliken (in Cluster 4) appears to be the most optimal neighborhood to start a Japanese restaurant in Toronto.\n",
    "\n",
    "In Cluster 2 and Cluster 4, where both have a medium - high ratio of East Asian population, Japanese restaurants have a good chance to stand out to the public due to competition never reaching too high. This detail provides great support in terms of future expansion and franchising the restaurant into different parts of Toronto. The flexibility allows the business to cope with changes in consumer demands in terms of relocation."
   ]
  },
  {
   "cell_type": "markdown",
   "metadata": {},
   "source": [
    "# 6. Conclusion"
   ]
  },
  {
   "cell_type": "markdown",
   "metadata": {},
   "source": [
    "In this study, I have clustered the neighborhoods in Toronto based on their different characteristics, including average annual income per household, ratio of target customers, and the level of competitions nearby. Based on our algorithm, it appears that Cluster 4, especially in Milliken, would bring the most optimal setting to allow our client's business to operate.\n",
    "\n",
    "The spending power of the residents in this location shows that the typical pricing of Japanese cuisine should not financially impact the local demand.\n",
    "\n",
    "The high ratio of target customers nearby is a perfect indicator that our Japanese cuisine could already be in high demand and our business would be an attractive addition to the local residents.\n",
    "\n",
    "The fair number of competitions allows our new business to stick out among the others, while also supporting the hypothesis that East Asian cuisine is somewhat popular to locals."
   ]
  },
  {
   "cell_type": "markdown",
   "metadata": {},
   "source": [
    "# 7. Reference"
   ]
  },
  {
   "cell_type": "markdown",
   "metadata": {},
   "source": [
    "1. My Github for this project:\n",
    "\n",
    "    https://github.com/jx22553/Coursera_Capstone\n",
    "\n",
    "\n",
    "2. Wikipedia page on Toronto neighbourhoods for scraping:\n",
    "\n",
    "    https://en.wikipedia.org/wiki/List_of_postal_codes_of_Canada:_M\n",
    "\n",
    "3. Toronto Open Data Portal for demographics data:\n",
    "\n",
    "    https://open.toronto.ca/dataset/wellbeing-toronto-demographics/\n",
    "\n",
    "4. Geographical coordinates of Toronto neighborhoods:\n",
    "\n",
    "    https://cocl.us/Geospatial_data\n",
    "\n",
    "5. Foursquare Developer API: \n",
    "\n",
    "    https://developer.foursquare.com"
   ]
  }
 ],
 "metadata": {
  "kernelspec": {
   "display_name": "Python",
   "language": "python",
   "name": "conda-env-python-py"
  },
  "language_info": {
   "codemirror_mode": {
    "name": "ipython",
    "version": 3
   },
   "file_extension": ".py",
   "mimetype": "text/x-python",
   "name": "python",
   "nbconvert_exporter": "python",
   "pygments_lexer": "ipython3",
   "version": "3.6.11"
  }
 },
 "nbformat": 4,
 "nbformat_minor": 4
}
